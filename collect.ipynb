{
 "cells": [
  {
   "cell_type": "code",
   "execution_count": 3,
   "metadata": {},
   "outputs": [],
   "source": [
    "#Run the code below by un-commenting it only when you don't have libraries installed\n",
    "# !pip3 install selenium\n",
    "# !pip3 install openpyxl"
   ]
  },
  {
   "cell_type": "code",
   "execution_count": 4,
   "metadata": {},
   "outputs": [],
   "source": [
    "#importing required libraries\n",
    "import time\n",
    "import openpyxl\n",
    "from selenium import webdriver\n",
    "from selenium.webdriver.common.by import By\n",
    "from selenium.webdriver.support.ui import WebDriverWait\n",
    "from selenium.webdriver.support import expected_conditions as EC "
   ]
  },
  {
   "cell_type": "code",
   "execution_count": 5,
   "metadata": {},
   "outputs": [],
   "source": [
    "#initialising the Chrome Web-Driver tool\n",
    "url = \"https://rategain.com/blog/page/\"\n",
    "driver = webdriver.Chrome()\n"
   ]
  },
  {
   "cell_type": "code",
   "execution_count": 6,
   "metadata": {},
   "outputs": [],
   "source": [
    "#We'll be storing the results in a excel file\n",
    "\n",
    "excel_file_path = 'output_demo.xlsx'\n",
    "\n",
    "#if the file exists then use the already existing file , otherwise create new file\n",
    "try:\n",
    "    workbook = openpyxl.load_workbook(excel_file_path)\n",
    "except FileNotFoundError:\n",
    "    workbook = openpyxl.Workbook()\n",
    "\n",
    "#choose the first active sheet\n",
    "sheet = workbook.active\n",
    "\n",
    "#Added the heading into the excel sheet\n",
    "sheet.append([\"Blog Title\", \"Blog Date\",\"Blog Image URL\",\"Blog Likes Count\"])\n",
    "\n",
    "\n",
    "#since we are having 45 pages so we will be iterating from page1 to page45\n",
    "\n",
    "for i in range(1,46,1):\n",
    "\n",
    "    #generating the new url by appending the page number\n",
    "    new_url=url+str(i)\n",
    "    driver.get(new_url)\n",
    "\n",
    "    #this the parent div which stores all the blogs inside of it\n",
    "    topLevelNesting=driver.find_elements(by=By.CLASS_NAME,value=\"wrap\")\n",
    "\n",
    "    #number of blogs\n",
    "    total_count=len(topLevelNesting)\n",
    "\n",
    "    # for each blogs we are extracting the required details\n",
    "    for i in range(0,total_count,1):\n",
    "\n",
    "        #extracting the image URL from data-bg property of anchor tag\n",
    "        image_url=topLevelNesting[i].find_element(By.TAG_NAME,value=\"a\").get_dom_attribute(\"data-bg\")\n",
    "\n",
    "        #if the image doesn't exist so there will be no url and hence we will not get any url\n",
    "        if(image_url==None):\n",
    "            image_url=\"\"\n",
    "        \n",
    "        #extracting title , date and like count , which is stored as span inside the \"wrap\" class of each blog\n",
    "        title=topLevelNesting[i].find_element(By.TAG_NAME,value=\"h6\").text\n",
    "        date=topLevelNesting[i].find_elements(By.TAG_NAME,value=\"span\")[0].text\n",
    "        like=topLevelNesting[i].find_elements(By.TAG_NAME,value=\"span\")[3].text\n",
    "\n",
    "        #insert the data into the excel sheet , if we face any error then print the details of the blog which caused the error\n",
    "        try:\n",
    "            sheet.append([title,date,image_url,like])\n",
    "        except:\n",
    "            print(\"URL : \",new_url)\n",
    "            print(\"Title : \",title)\n",
    "            print(\"Image URL : \",image_url)\n",
    "            print(\"Date : \",date)\n",
    "            print(\"Like Count : \",like)\n",
    "\n",
    "workbook.save(excel_file_path)"
   ]
  },
  {
   "cell_type": "code",
   "execution_count": null,
   "metadata": {},
   "outputs": [],
   "source": []
  }
 ],
 "metadata": {
  "kernelspec": {
   "display_name": "Python 3",
   "language": "python",
   "name": "python3"
  },
  "language_info": {
   "codemirror_mode": {
    "name": "ipython",
    "version": 3
   },
   "file_extension": ".py",
   "mimetype": "text/x-python",
   "name": "python",
   "nbconvert_exporter": "python",
   "pygments_lexer": "ipython3",
   "version": "3.9.6"
  }
 },
 "nbformat": 4,
 "nbformat_minor": 2
}
